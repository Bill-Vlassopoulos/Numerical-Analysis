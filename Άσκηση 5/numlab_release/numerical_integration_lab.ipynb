{
 "cells": [
  {
   "cell_type": "markdown",
   "metadata": {},
   "source": [
    "# Numerical Integration"
   ]
  },
  {
   "cell_type": "markdown",
   "metadata": {},
   "source": [
    "Differential equations describe the relation between an unknown function and its\n",
    "derivatives. To solve a differential equation is to find a function that\n",
    "satisfies the relation, typically while satisfying some additional conditions as\n",
    "well. In this course we will be concerned primarily with a particular class of\n",
    "problems, called initial value problems. In a canonical initial value problem,\n",
    "the behavior of the system is described by an ordinary differential equation\n",
    "(ODE) of the form\n",
    "\n",
    "\\begin{equation}\n",
    "  \\dot{{\\bf x}} = f({\\bf x}, t)\n",
    "\\end{equation}\n",
    "\n",
    "where f is a known function ${\\bf x}$ is the state of the system, and $\\dot{{\\bf\n",
    "x}}$ is ${\\bf x}$’s time derivative. Typically, ${\\bf x}$ and $\\dot{{\\bf x}}$\n",
    "are vectors. As the name suggests, in an initial value problem we are given\n",
    "${\\bf x}(t_0)= {\\bf x_0}$ at some starting time $t_0$, and wish to follow ${\\bf\n",
    "x}$ over time thereafter."
   ]
  },
  {
   "cell_type": "code",
   "execution_count": 1,
   "metadata": {},
   "outputs": [
    {
     "ename": "ModuleNotFoundError",
     "evalue": "No module named 'matplotlib'",
     "output_type": "error",
     "traceback": [
      "\u001b[1;31m---------------------------------------------------------------------------\u001b[0m",
      "\u001b[1;31mModuleNotFoundError\u001b[0m                       Traceback (most recent call last)",
      "Cell \u001b[1;32mIn[1], line 3\u001b[0m\n\u001b[0;32m      1\u001b[0m \u001b[38;5;66;03m# python packages and configurations\u001b[39;00m\n\u001b[0;32m      2\u001b[0m \u001b[38;5;66;03m# %matplotlib nbagg\u001b[39;00m\n\u001b[1;32m----> 3\u001b[0m \u001b[43mget_ipython\u001b[49m\u001b[43m(\u001b[49m\u001b[43m)\u001b[49m\u001b[38;5;241;43m.\u001b[39;49m\u001b[43mrun_line_magic\u001b[49m\u001b[43m(\u001b[49m\u001b[38;5;124;43m'\u001b[39;49m\u001b[38;5;124;43mmatplotlib\u001b[39;49m\u001b[38;5;124;43m'\u001b[39;49m\u001b[43m,\u001b[49m\u001b[43m \u001b[49m\u001b[38;5;124;43m'\u001b[39;49m\u001b[38;5;124;43minline\u001b[39;49m\u001b[38;5;124;43m'\u001b[39;49m\u001b[43m)\u001b[49m\n\u001b[0;32m      4\u001b[0m \u001b[38;5;28;01mfrom\u001b[39;00m \u001b[38;5;21;01mrandom\u001b[39;00m \u001b[38;5;28;01mimport\u001b[39;00m uniform\n\u001b[0;32m      5\u001b[0m \u001b[38;5;28;01mimport\u001b[39;00m \u001b[38;5;21;01mnumpy\u001b[39;00m \u001b[38;5;28;01mas\u001b[39;00m \u001b[38;5;21;01mnp\u001b[39;00m\n",
      "File \u001b[1;32m~\\AppData\\Local\\Programs\\Python\\Python311\\Lib\\site-packages\\IPython\\core\\interactiveshell.py:2369\u001b[0m, in \u001b[0;36mInteractiveShell.run_line_magic\u001b[1;34m(self, magic_name, line, _stack_depth)\u001b[0m\n\u001b[0;32m   2367\u001b[0m     kwargs[\u001b[38;5;124m'\u001b[39m\u001b[38;5;124mlocal_ns\u001b[39m\u001b[38;5;124m'\u001b[39m] \u001b[38;5;241m=\u001b[39m \u001b[38;5;28mself\u001b[39m\u001b[38;5;241m.\u001b[39mget_local_scope(stack_depth)\n\u001b[0;32m   2368\u001b[0m \u001b[38;5;28;01mwith\u001b[39;00m \u001b[38;5;28mself\u001b[39m\u001b[38;5;241m.\u001b[39mbuiltin_trap:\n\u001b[1;32m-> 2369\u001b[0m     result \u001b[38;5;241m=\u001b[39m \u001b[43mfn\u001b[49m\u001b[43m(\u001b[49m\u001b[38;5;241;43m*\u001b[39;49m\u001b[43margs\u001b[49m\u001b[43m,\u001b[49m\u001b[43m \u001b[49m\u001b[38;5;241;43m*\u001b[39;49m\u001b[38;5;241;43m*\u001b[39;49m\u001b[43mkwargs\u001b[49m\u001b[43m)\u001b[49m\n\u001b[0;32m   2370\u001b[0m \u001b[38;5;28;01mreturn\u001b[39;00m result\n",
      "File \u001b[1;32m~\\AppData\\Local\\Programs\\Python\\Python311\\Lib\\site-packages\\IPython\\core\\magics\\pylab.py:99\u001b[0m, in \u001b[0;36mPylabMagics.matplotlib\u001b[1;34m(self, line)\u001b[0m\n\u001b[0;32m     97\u001b[0m     \u001b[38;5;28mprint\u001b[39m(\u001b[38;5;124m\"\u001b[39m\u001b[38;5;124mAvailable matplotlib backends: \u001b[39m\u001b[38;5;132;01m%s\u001b[39;00m\u001b[38;5;124m\"\u001b[39m \u001b[38;5;241m%\u001b[39m backends_list)\n\u001b[0;32m     98\u001b[0m \u001b[38;5;28;01melse\u001b[39;00m:\n\u001b[1;32m---> 99\u001b[0m     gui, backend \u001b[38;5;241m=\u001b[39m \u001b[38;5;28;43mself\u001b[39;49m\u001b[38;5;241;43m.\u001b[39;49m\u001b[43mshell\u001b[49m\u001b[38;5;241;43m.\u001b[39;49m\u001b[43menable_matplotlib\u001b[49m\u001b[43m(\u001b[49m\u001b[43margs\u001b[49m\u001b[38;5;241;43m.\u001b[39;49m\u001b[43mgui\u001b[49m\u001b[38;5;241;43m.\u001b[39;49m\u001b[43mlower\u001b[49m\u001b[43m(\u001b[49m\u001b[43m)\u001b[49m\u001b[43m \u001b[49m\u001b[38;5;28;43;01mif\u001b[39;49;00m\u001b[43m \u001b[49m\u001b[38;5;28;43misinstance\u001b[39;49m\u001b[43m(\u001b[49m\u001b[43margs\u001b[49m\u001b[38;5;241;43m.\u001b[39;49m\u001b[43mgui\u001b[49m\u001b[43m,\u001b[49m\u001b[43m \u001b[49m\u001b[38;5;28;43mstr\u001b[39;49m\u001b[43m)\u001b[49m\u001b[43m \u001b[49m\u001b[38;5;28;43;01melse\u001b[39;49;00m\u001b[43m \u001b[49m\u001b[43margs\u001b[49m\u001b[38;5;241;43m.\u001b[39;49m\u001b[43mgui\u001b[49m\u001b[43m)\u001b[49m\n\u001b[0;32m    100\u001b[0m     \u001b[38;5;28mself\u001b[39m\u001b[38;5;241m.\u001b[39m_show_matplotlib_backend(args\u001b[38;5;241m.\u001b[39mgui, backend)\n",
      "File \u001b[1;32m~\\AppData\\Local\\Programs\\Python\\Python311\\Lib\\site-packages\\IPython\\core\\interactiveshell.py:3522\u001b[0m, in \u001b[0;36mInteractiveShell.enable_matplotlib\u001b[1;34m(self, gui)\u001b[0m\n\u001b[0;32m   3501\u001b[0m \u001b[38;5;28;01mdef\u001b[39;00m \u001b[38;5;21menable_matplotlib\u001b[39m(\u001b[38;5;28mself\u001b[39m, gui\u001b[38;5;241m=\u001b[39m\u001b[38;5;28;01mNone\u001b[39;00m):\n\u001b[0;32m   3502\u001b[0m \u001b[38;5;250m    \u001b[39m\u001b[38;5;124;03m\"\"\"Enable interactive matplotlib and inline figure support.\u001b[39;00m\n\u001b[0;32m   3503\u001b[0m \n\u001b[0;32m   3504\u001b[0m \u001b[38;5;124;03m    This takes the following steps:\u001b[39;00m\n\u001b[1;32m   (...)\u001b[0m\n\u001b[0;32m   3520\u001b[0m \u001b[38;5;124;03m        display figures inline.\u001b[39;00m\n\u001b[0;32m   3521\u001b[0m \u001b[38;5;124;03m    \"\"\"\u001b[39;00m\n\u001b[1;32m-> 3522\u001b[0m     \u001b[38;5;28;01mfrom\u001b[39;00m \u001b[38;5;21;01mmatplotlib_inline\u001b[39;00m\u001b[38;5;21;01m.\u001b[39;00m\u001b[38;5;21;01mbackend_inline\u001b[39;00m \u001b[38;5;28;01mimport\u001b[39;00m configure_inline_support\n\u001b[0;32m   3524\u001b[0m     \u001b[38;5;28;01mfrom\u001b[39;00m \u001b[38;5;21;01mIPython\u001b[39;00m\u001b[38;5;21;01m.\u001b[39;00m\u001b[38;5;21;01mcore\u001b[39;00m \u001b[38;5;28;01mimport\u001b[39;00m pylabtools \u001b[38;5;28;01mas\u001b[39;00m pt\n\u001b[0;32m   3525\u001b[0m     gui, backend \u001b[38;5;241m=\u001b[39m pt\u001b[38;5;241m.\u001b[39mfind_gui_and_backend(gui, \u001b[38;5;28mself\u001b[39m\u001b[38;5;241m.\u001b[39mpylab_gui_select)\n",
      "File \u001b[1;32m~\\AppData\\Local\\Programs\\Python\\Python311\\Lib\\site-packages\\matplotlib_inline\\__init__.py:1\u001b[0m\n\u001b[1;32m----> 1\u001b[0m \u001b[38;5;28;01mfrom\u001b[39;00m \u001b[38;5;21;01m.\u001b[39;00m \u001b[38;5;28;01mimport\u001b[39;00m backend_inline, config  \u001b[38;5;66;03m# noqa\u001b[39;00m\n\u001b[0;32m      2\u001b[0m __version__ \u001b[38;5;241m=\u001b[39m \u001b[38;5;124m\"\u001b[39m\u001b[38;5;124m0.1.6\u001b[39m\u001b[38;5;124m\"\u001b[39m  \u001b[38;5;66;03m# noqa\u001b[39;00m\n",
      "File \u001b[1;32m~\\AppData\\Local\\Programs\\Python\\Python311\\Lib\\site-packages\\matplotlib_inline\\backend_inline.py:6\u001b[0m\n\u001b[0;32m      1\u001b[0m \u001b[38;5;124;03m\"\"\"A matplotlib backend for publishing figures via display_data\"\"\"\u001b[39;00m\n\u001b[0;32m      3\u001b[0m \u001b[38;5;66;03m# Copyright (c) IPython Development Team.\u001b[39;00m\n\u001b[0;32m      4\u001b[0m \u001b[38;5;66;03m# Distributed under the terms of the BSD 3-Clause License.\u001b[39;00m\n\u001b[1;32m----> 6\u001b[0m \u001b[38;5;28;01mimport\u001b[39;00m \u001b[38;5;21;01mmatplotlib\u001b[39;00m\n\u001b[0;32m      7\u001b[0m \u001b[38;5;28;01mfrom\u001b[39;00m \u001b[38;5;21;01mmatplotlib\u001b[39;00m \u001b[38;5;28;01mimport\u001b[39;00m colors\n\u001b[0;32m      8\u001b[0m \u001b[38;5;28;01mfrom\u001b[39;00m \u001b[38;5;21;01mmatplotlib\u001b[39;00m\u001b[38;5;21;01m.\u001b[39;00m\u001b[38;5;21;01mbackends\u001b[39;00m \u001b[38;5;28;01mimport\u001b[39;00m backend_agg\n",
      "\u001b[1;31mModuleNotFoundError\u001b[0m: No module named 'matplotlib'"
     ]
    }
   ],
   "source": [
    "# python packages and configurations\n",
    "# %matplotlib nbagg\n",
    "%matplotlib inline\n",
    "from random import uniform\n",
    "import numpy as np\n",
    "import sympy as sp\n",
    "import matplotlib.pyplot as plt\n",
    "from mpl_toolkits.mplot3d import Axes3D\n",
    "from matplotlib import animation\n",
    "# plt.style.use('grayscale')\n",
    "from scipy.integrate import odeint\n",
    "from IPython.display import HTML, Video, Image\n",
    "\n",
    "# utility function\n",
    "def visualize(t, y, u, analytical_solution):\n",
    "    t = np.array(t)\n",
    "    y = np.array(y)\n",
    "    u = np.array(u)\n",
    "    fig = plt.figure(figsize=(12, 6))\n",
    "    ax = fig.subplots(1, 2)\n",
    "    ax[0].plot(t, analytical_solution(t).real, label='analytical')\n",
    "    ax[0].plot(t, y, 'x', label='numerical')\n",
    "    ax[0].set_xlabel('$t (s)$')\n",
    "    ax[0].set_ylabel('$y (m)$')\n",
    "    ax[0].set_title('Solution')\n",
    "    ax[0].legend()\n",
    "    ax[1].quiver(y[:-1], u[:-1], y[1:] - y[:-1], u[1:] - u[:-1],\n",
    "                 scale_units='xy', angles='xy', scale=1)\n",
    "    ax[1].set_xlabel('$y (m)$')\n",
    "    ax[1].set_ylabel('$u (m / s)$')\n",
    "    ax[1].set_title('State-space')"
   ]
  },
  {
   "cell_type": "markdown",
   "metadata": {},
   "source": [
    "## Analytical Solution"
   ]
  },
  {
   "cell_type": "markdown",
   "metadata": {},
   "source": [
    "Let us examine the following second-order ODE that represents a\n",
    "mass-spring-damper system:\n",
    "\n",
    "\\begin{equation}\n",
    "  m y'' + d y' + k y =0,\\; y(t_0) = y_0, y'(t_0) = u_0\n",
    "\\end{equation}\n",
    "\n",
    "where $m$, $d$ and $k$ are the mass, spring constant and damping coefficient,\n",
    "respectively. The analytical solution of this equation is of the following form:\n",
    "\n",
    "\\begin{equation}\n",
    "  y(t) = A e^{r_1 t} + B e^{r_2 t}\n",
    "\\end{equation}\n",
    "\n",
    "where $r_1$ and $r_2$ are the roots of the homogeneous equation. Constants $A$\n",
    "and $B$ are determined such as that the above equation satisfies the initial\n",
    "conditions."
   ]
  },
  {
   "cell_type": "code",
   "execution_count": 2,
   "metadata": {},
   "outputs": [],
   "source": [
    "# model parameters and initial conditions\n",
    "m = 1.0   # mass\n",
    "k = 5.0   # spring constant\n",
    "d = 0.0   # damping coefficient\n",
    "y0 = -5.0 # initial position \n",
    "u0 = 0.0  # initial velocity\n",
    "\n",
    "# find the roots of the homogeneous equation\n",
    "def calc_analytical_solution():\n",
    "    roots = sp.solve('m * y**2 + d * y + k', 'y')\n",
    "\n",
    "    # find the constants of the analytical solution\n",
    "    constants = sp.solve(['A + B - y0', 'r1 * A + r2 * B - u0'], 'A', 'B')\n",
    "\n",
    "    # substitute the parameters \n",
    "    parameters = {'m': m, 'd': d, 'k': k}\n",
    "    r1 = roots[0].subs(parameters)\n",
    "    r2 = roots[1].subs(parameters)\n",
    "    parameters['r1'] = r1\n",
    "    parameters['r2'] = r2\n",
    "    parameters['y0'] = y0\n",
    "    parameters['u0'] = u0\n",
    "    A = constants[sp.symbols('A')].subs(parameters)\n",
    "    B = constants[sp.symbols('B')].subs(parameters)\n",
    "\n",
    "    # calculate the analytical solution as a function of time\n",
    "    t = sp.symbols('t')\n",
    "    analytical_solution = sp.lambdify(t, A * sp.exp(r1 * t) + B * sp.exp(r2 * t))\n",
    "    return analytical_solution"
   ]
  },
  {
   "cell_type": "markdown",
   "metadata": {},
   "source": [
    "## Explicit Euler"
   ]
  },
  {
   "cell_type": "markdown",
   "metadata": {},
   "source": [
    "The simplest numerical method is called explicit Euler. This method computes the\n",
    "next value of the solution $x(t + dt)$ by taking a step in the derivative\n",
    "direction\n",
    "\n",
    "\\begin{equation}\n",
    "  x(t_0 + dt) = x(t_0) + x'(t_0) dt + O(dt^2)\n",
    "\\end{equation}\n",
    "\n",
    "where $x'(t_0)$ is the first derivative valuated at $t_0$ and $dt$ is the step\n",
    "size. This is a first-order approximation of the Taylor series. To solve a\n",
    "second order differential equation, one can apply the Euler method\n",
    "twice. Assuming that $u(t) = y'(t)$ and $a(t) = y''(t)$ then the problem is\n",
    "expressed as follows:\n",
    "\n",
    "\\begin{aligned}\n",
    "   a(t_0) &= -\\frac{k}{m} y(t_0) - \\frac{d}{m} u(t_0) \\\\\n",
    "   u(t_0 + dt) &= u(t_0) + a(t_0) dt \\\\\n",
    "   y(t_0 + dt) &= y(t_0) + u(t_0) dt.\n",
    "\\end{aligned}"
   ]
  },
  {
   "cell_type": "code",
   "execution_count": 5,
   "metadata": {},
   "outputs": [
    {
     "ename": "NameError",
     "evalue": "name 'visualize' is not defined",
     "output_type": "error",
     "traceback": [
      "\u001b[1;31m---------------------------------------------------------------------------\u001b[0m",
      "\u001b[1;31mNameError\u001b[0m                                 Traceback (most recent call last)",
      "Cell \u001b[1;32mIn[5], line 25\u001b[0m\n\u001b[0;32m     23\u001b[0m     t\u001b[38;5;241m.\u001b[39mappend(t0 \u001b[38;5;241m+\u001b[39m dt)\n\u001b[0;32m     24\u001b[0m \u001b[38;5;66;03m# visualization\u001b[39;00m\n\u001b[1;32m---> 25\u001b[0m \u001b[43mvisualize\u001b[49m(t, y, u, calc_analytical_solution())\n",
      "\u001b[1;31mNameError\u001b[0m: name 'visualize' is not defined"
     ]
    }
   ],
   "source": [
    "# integration parameters\n",
    "end_time = 5\n",
    "dt = 0.01\n",
    "\n",
    "# solution vectors\n",
    "t = [0.0]\n",
    "y = [y0]\n",
    "u = [u0]\n",
    "\n",
    "# numerical integration\n",
    "while t[-1] < end_time:\n",
    "    t0 = t[-1]\n",
    "    y_t0 = y[-1]\n",
    "    u_t0 = u[-1]\n",
    "    \n",
    "    #TASK calculate a, u and y\n",
    "    a_t0=-(k/m)*y_t0-(d/m)*u_t0\n",
    "    u_t0_dt=u_t0+a_t0*dt\n",
    "    y_t0_dt=y_t0+u_t0*dt\n",
    "\n",
    "    u.append(u_t0_dt)\n",
    "    y.append(y_t0_dt)\n",
    "    t.append(t0 + dt)\n",
    "# visualization\n",
    "visualize(t, y, u, calc_analytical_solution())"
   ]
  },
  {
   "cell_type": "markdown",
   "metadata": {},
   "source": [
    "1. Calculate a_t0, u_t0_dt, y_t0_dt.\n",
    "2. Experiment with different spring parameters and/or initial conditions.\n",
    "\n",
    "1. Explain the meaning of the state-space plot (right subfigure). What should be the expected state-space plot (hint: change visualize function)?\n",
    "2. Why does the numerical solution diverges from the true solution (hint: Taylor expansion)?\n",
    "3. What can you do to better approximate the actual solution with this method?"
   ]
  },
  {
   "cell_type": "markdown",
   "metadata": {},
   "source": [
    "## Semi-implicit Euler"
   ]
  },
  {
   "cell_type": "markdown",
   "metadata": {},
   "source": [
    "The difference with the standard Euler method is that the semi-implicit Euler\n",
    "method uses $u(t_0 + dt)$ in the equation for $y(t_0 + dt)$, while the Euler\n",
    "method uses $u(t_0)$\n",
    "\n",
    "\\begin{aligned}\n",
    "   a(t_0) &= -\\frac{k}{m} y(t_0) - \\frac{d}{m} u(t_0) \\\\\n",
    "   u(t_0 + dt) &= u(t_0) + a(t_0) dt \\\\\n",
    "   y(t_0 + dt) &= x(t_0) + u(t_0 + dt) dt.\n",
    "\\end{aligned}"
   ]
  },
  {
   "cell_type": "code",
   "execution_count": 6,
   "metadata": {},
   "outputs": [
    {
     "ename": "SyntaxError",
     "evalue": "invalid syntax (759566046.py, line 17)",
     "output_type": "error",
     "traceback": [
      "\u001b[1;36m  Cell \u001b[1;32mIn[6], line 17\u001b[1;36m\u001b[0m\n\u001b[1;33m    a_t0 =\u001b[0m\n\u001b[1;37m           ^\u001b[0m\n\u001b[1;31mSyntaxError\u001b[0m\u001b[1;31m:\u001b[0m invalid syntax\n"
     ]
    }
   ],
   "source": [
    "# integration parameters\n",
    "end_time = 10\n",
    "dt = 0.01\n",
    "\n",
    "# solution vectors\n",
    "t = [0]\n",
    "y = [y0]\n",
    "u = [u0]\n",
    "\n",
    "# numerical integration\n",
    "while t[-1] < end_time:\n",
    "    t0 = t[-1]\n",
    "    y_t0 = y[-1]\n",
    "    u_t0 = u[-1]  \n",
    "    \n",
    "    #TASK calculate a, u and y\n",
    "    a_t0 = \n",
    "    u_t0_dt = \n",
    "    y_t0_dt =\n",
    "      \n",
    "    y.append(y_t0_dt)\n",
    "    u.append(u_t0_dt)\n",
    "    t.append(t0 + dt)\n",
    "    \n",
    "# visualization\n",
    "visualize(t, y, u, calc_analytical_solution())"
   ]
  },
  {
   "cell_type": "markdown",
   "metadata": {},
   "source": [
    "1. Is this method stable and when?\n",
    "2. What about the accuracy of the obtained solution?"
   ]
  },
  {
   "cell_type": "markdown",
   "metadata": {},
   "source": [
    "## The Midpoint Method and the Runge-Kutta method of Order 4"
   ]
  },
  {
   "cell_type": "markdown",
   "metadata": {},
   "source": [
    "If we were able to evaluate $\\ddot{{\\bf x}}$ as well as $\\dot{{\\bf x}}$, we\n",
    "could acheive $O(dt^3)$ accuracy instead of $O(dt^2)$ simply by retaining one\n",
    "additional term in the truncated Taylor series:\n",
    "\n",
    "\\begin{equation}\n",
    "   {\\bf x}(t_0 + dt) = {\\bf x}(t_0) + \\dot{{\\bf x}}(t_0) dt + \\ddot{{\\bf x}}(t_0) \\frac{dt^2}{2} + O(dt^3).  \\quad \\quad (1)\n",
    "\\end{equation}\n",
    "\n",
    "Recall that the time derivative $\\dot{{\\bf x}}$ is given by a function $f({\\bf\n",
    "x}(t), t)$. For simplicity in what follows, we will assume that the derivative\n",
    "function $f$ does depends on time only indirectly through ${\\bf x}$, so that\n",
    "$\\dot{{\\bf x}} = f({\\bf x}(t))$. The chain rule then gives\n",
    "\n",
    "\n",
    "\\begin{equation}\n",
    "   \\ddot{{\\bf x}} = \\frac{df}{d {\\bf x}} \\dot{{\\bf x}} = f' f.\n",
    "\\end{equation}\n",
    "\n",
    "To avoid having to evaluate $f'$, which would often be complicated and\n",
    "expensive, we can approximate the second-order term just in terms of $f$, and\n",
    "substitute the approximation into Eq. (1), leaving us with $O(dt^3)$ error. To\n",
    "do this, we perform another Taylor expansion, this time of the function of $f$\n",
    "\n",
    "\\begin{equation}\n",
    "   f({\\bf x}_0 + \\Delta {\\bf x}) = f({\\bf x}_0) + f'({\\bf x}_0) \\Delta {\\bf x} + O(\\Delta {\\bf x}^2).\n",
    "\\end{equation}\n",
    "\n",
    "We first induce $\\ddot{{\\bf x}}$ into this expression by choosing\n",
    "\n",
    "\\begin{equation}\n",
    "  \\Delta {\\bf x} = f({\\bf x}_0) \\frac{dt}{2}\n",
    "\\end{equation}\n",
    "\n",
    "so that\n",
    "\n",
    "\\begin{equation}\n",
    "   f({\\bf x}_0 + f({\\bf x}_0) \\frac{dt}{2}) = f({\\bf x}_0) + f'({\\bf x}_0) f({\\bf x}_0) \\frac{dt}{2} + O(dt^2) = f({\\bf x}_0) + \\ddot{{\\bf x}}(t_0) \\frac{dt}{2} + O(dt^2)\n",
    "\\end{equation}\n",
    "\n",
    "where ${\\bf x}_0 = {\\bf x}(t_0)$. We can now multiply both sides by $dt$\n",
    "(turning the $O(dt^2)$ term into $O(dt^3)$) and rearrange, yielding\n",
    "\n",
    "\\begin{equation}\n",
    "  \\ddot{{\\bf x}}(t_0) \\frac{dt^2}{2} + O(dt^3) = (f({\\bf x}_0 + f({\\bf x}_0) \\frac{dt}{2}) - f({\\bf x}_0)) dt\n",
    "\\end{equation}\n",
    "\n",
    "Substituting the right hand side into Eq. (1) gives the update formula\n",
    "\n",
    "\\begin{equation}\n",
    "   {\\bf x}(t_0 + dt) = {\\bf x}(t_0) + f({\\bf x}_0 + f({\\bf x}_0) \\frac{dt}{2}) dt\n",
    "\\end{equation}\n",
    "\n",
    "This formula first evaluates an Euler step, then performs a second derivative\n",
    "evaluation at the midpoint of the step, using the midpoint evaluation to update\n",
    "${\\bf x}$. Hence the name midpoint method. The midpoint method is correct to\n",
    "within $O(dt^3)$, but requires two evaluations of $f$.\n",
    "\n",
    "We don’t have to stop with an error of $O(dt^3)$. By evaluating $f$ a few more\n",
    "times, we can eliminate higher and higher orders of derivatives. The most\n",
    "popular procedure for doing this is a method called Runge-Kutta of order 4 and\n",
    "has an error per step of $O(dt^4)$ (the midpoint method could be called\n",
    "Runge-Kutta of order 2). We won’t derive the fourth order Runge-Kutta method,\n",
    "but the formula for computing ${\\bf x}(t_0 + dt)$ is listed below:\n",
    "\n",
    "\\begin{aligned}\n",
    "    k_1 &= f({\\bf x}_0, t_0) dt \\\\\n",
    "    k_2 &= f({\\bf x}_0 + \\frac{k_1}{2}, t_0 + \\frac{dt}{2}) dt \\\\\n",
    "    k_3 &= f({\\bf x}_0 + \\frac{k_2}{2}, t_0 + \\frac{dt}{2}) dt \\\\\n",
    "    k_4 &= f({\\bf x}_0 + k_3, t_0 + dt) dt \\\\\n",
    "    {\\bf x}(t_0 + dt) &= {\\bf x}_0 + \\frac{1}{6} (k_1 + 2 k_2 + 2 k_3 + k_4).\n",
    "\\end{aligned}"
   ]
  },
  {
   "cell_type": "markdown",
   "metadata": {},
   "source": [
    "In order to express the second-order ODE into a cannonical first-order form\n",
    "\n",
    "\\begin{equation}\n",
    "  \\dot{{\\bf x}} = f({\\bf x}, t)\n",
    "\\end{equation}\n",
    "\n",
    "\n",
    "one can use the following transformation $x_1 = y$, $x_2 = y'$, $x_1' = x_2$ and $x_2' = y''$. Therefore, the transformed system of equations becomes:\n",
    "\n",
    "\\begin{equation}\n",
    "  \\bf x = \\begin{bmatrix}\n",
    "    x_1 \\\\ x_2\n",
    "  \\end{bmatrix} = \n",
    "  \\begin{bmatrix}\n",
    "    y \\\\ u\n",
    "  \\end{bmatrix}\n",
    "\\end{equation}\n",
    "\n",
    "\n",
    "\n",
    "\\begin{equation}\n",
    "  \\dot{{\\bf x}} =\n",
    "  \\begin{bmatrix}\n",
    "    \\dot{x}_1 \\\\ \\dot{x}_2 \n",
    "  \\end{bmatrix} = \n",
    "  \\begin{bmatrix}\n",
    "    u \\\\ a\n",
    "  \\end{bmatrix} =\n",
    "  \\begin{bmatrix} \n",
    "    x_2 \\\\ - \\frac{k}{m} x_1 - \\frac{d}{m} x_2 \n",
    "  \\end{bmatrix} =\n",
    "  f({\\bf x}, t).\n",
    "\\end{equation}\n",
    "\n",
    "A more visual presentation of the k variables and what they mean is shown here\n",
    "![title](rk4.png)"
   ]
  },
  {
   "cell_type": "code",
   "execution_count": 7,
   "metadata": {},
   "outputs": [
    {
     "ename": "SyntaxError",
     "evalue": "invalid syntax (3887300221.py, line 19)",
     "output_type": "error",
     "traceback": [
      "\u001b[1;36m  Cell \u001b[1;32mIn[7], line 19\u001b[1;36m\u001b[0m\n\u001b[1;33m    k1 =\u001b[0m\n\u001b[1;37m         ^\u001b[0m\n\u001b[1;31mSyntaxError\u001b[0m\u001b[1;31m:\u001b[0m invalid syntax\n"
     ]
    }
   ],
   "source": [
    "# integration parameters\n",
    "end_time = 10\n",
    "dt = 0.1\n",
    "\n",
    "# solution vectors\n",
    "t = [0]\n",
    "x = [[y0, u0]]\n",
    "\n",
    "# first-order derivative function\n",
    "def f(x, t):\n",
    "    return np.array([x[1], -k / m * x[0] - d / m * x[1]])\n",
    "\n",
    "# numerical integration\n",
    "while t[-1] < end_time:\n",
    "    t0 = t[-1]\n",
    "    x_t0 = np.array(x[-1])\n",
    "    \n",
    "    #Calculate k1, k2, k3, k4 and finally x_t0_dt\n",
    "    k1 = \n",
    "    k2 = \n",
    "    k3 = \n",
    "    k4 = \n",
    "    x_t0_dt = \n",
    "    \n",
    "    \n",
    "    x.append(x_t0_dt)    \n",
    "    t.append(t0 + dt)\n",
    "\n",
    "# visualization\n",
    "x = np.array(x)\n",
    "visualize(t, x[:, 0], x[:, 1], calc_analytical_solution())"
   ]
  },
  {
   "cell_type": "markdown",
   "metadata": {},
   "source": [
    "1. What is the error of this method?\n",
    "2. Do you expect the solution to diverge?"
   ]
  },
  {
   "cell_type": "markdown",
   "metadata": {},
   "source": [
    "## Adaptive Time Stepping\n",
    "\n",
    "Whatever the underlying method, a major problem lies in determing a good stepsize. Ideally, we\n",
    "want to choose h as large as possible—but not so large as to give us an unreasonable amount of\n",
    "error, or worse still, to induce instability. If we choose a fixed stepsize, we can only proceed as\n",
    "fast as the “worst” sections of x(t) will allow."
   ]
  },
  {
   "cell_type": "code",
   "execution_count": 8,
   "metadata": {},
   "outputs": [
    {
     "ename": "NameError",
     "evalue": "name 'np' is not defined",
     "output_type": "error",
     "traceback": [
      "\u001b[1;31m---------------------------------------------------------------------------\u001b[0m",
      "\u001b[1;31mNameError\u001b[0m                                 Traceback (most recent call last)",
      "Cell \u001b[1;32mIn[8], line 3\u001b[0m\n\u001b[0;32m      1\u001b[0m \u001b[38;5;66;03m# integration parameters\u001b[39;00m\n\u001b[0;32m      2\u001b[0m end_time \u001b[38;5;241m=\u001b[39m \u001b[38;5;241m5\u001b[39m\n\u001b[1;32m----> 3\u001b[0m t \u001b[38;5;241m=\u001b[39m \u001b[43mnp\u001b[49m\u001b[38;5;241m.\u001b[39mlinspace(\u001b[38;5;241m0\u001b[39m, end_time, end_time \u001b[38;5;241m*\u001b[39m \u001b[38;5;241m10\u001b[39m)\n\u001b[0;32m      5\u001b[0m x0 \u001b[38;5;241m=\u001b[39m [y0, u0]\n\u001b[0;32m      7\u001b[0m \u001b[38;5;66;03m# first-order derivative function\u001b[39;00m\n",
      "\u001b[1;31mNameError\u001b[0m: name 'np' is not defined"
     ]
    }
   ],
   "source": [
    "# integration parameters\n",
    "end_time = 5\n",
    "t = np.linspace(0, end_time, end_time * 10)\n",
    "\n",
    "x0 = [y0, u0]\n",
    "\n",
    "# first-order derivative function\n",
    "def f(x, t):\n",
    "    return [x[1], -k / m * x[0] - d / m * x[1]]\n",
    "    \n",
    "# numerical integration\n",
    "[x, infodict] = odeint(f, x0, t, full_output=True)\n",
    "\n",
    "# visualization\n",
    "visualize(t, x[:, 0], x[:, 1], calc_analytical_solution())\n",
    "#print(len(infodict['tcur']))\n",
    "#print(len(t))"
   ]
  },
  {
   "cell_type": "markdown",
   "metadata": {},
   "source": [
    "1. Change the density of the time points in np.linspace. What do you observe?\n",
    "2. Do you expect the solution to diverge?\n",
    "3. Which algorithms are supported by odeint?"
   ]
  },
  {
   "cell_type": "markdown",
   "metadata": {},
   "source": [
    "## Cloth Simulation"
   ]
  },
  {
   "cell_type": "code",
   "execution_count": 9,
   "metadata": {},
   "outputs": [
    {
     "ename": "NameError",
     "evalue": "name 'np' is not defined",
     "output_type": "error",
     "traceback": [
      "\u001b[1;31m---------------------------------------------------------------------------\u001b[0m",
      "\u001b[1;31mNameError\u001b[0m                                 Traceback (most recent call last)",
      "Cell \u001b[1;32mIn[9], line 10\u001b[0m\n\u001b[0;32m      8\u001b[0m lx_type1 \u001b[38;5;241m=\u001b[39m W \u001b[38;5;241m/\u001b[39m (particles_x \u001b[38;5;241m-\u001b[39m \u001b[38;5;241m1\u001b[39m)\n\u001b[0;32m      9\u001b[0m ly_type1 \u001b[38;5;241m=\u001b[39m H \u001b[38;5;241m/\u001b[39m (particles_y \u001b[38;5;241m-\u001b[39m \u001b[38;5;241m1\u001b[39m)\n\u001b[1;32m---> 10\u001b[0m lxy_type1 \u001b[38;5;241m=\u001b[39m \u001b[43mnp\u001b[49m\u001b[38;5;241m.\u001b[39msqrt(lx_type1 \u001b[38;5;241m*\u001b[39m\u001b[38;5;241m*\u001b[39m \u001b[38;5;241m2\u001b[39m \u001b[38;5;241m+\u001b[39m ly_type1 \u001b[38;5;241m*\u001b[39m\u001b[38;5;241m*\u001b[39m \u001b[38;5;241m2\u001b[39m)\n\u001b[0;32m     11\u001b[0m lx_type2 \u001b[38;5;241m=\u001b[39m \u001b[38;5;241m2\u001b[39m \u001b[38;5;241m*\u001b[39m lx_type1\n\u001b[0;32m     12\u001b[0m ly_type2 \u001b[38;5;241m=\u001b[39m \u001b[38;5;241m2\u001b[39m \u001b[38;5;241m*\u001b[39m ly_type1\n",
      "\u001b[1;31mNameError\u001b[0m: name 'np' is not defined"
     ]
    }
   ],
   "source": [
    "# topology\n",
    "W = 1.0  # grid width\n",
    "H = 1.0  # grid heigh\n",
    "particles_x = 11  # number of particles on x-axis\n",
    "particles_y = 11  # number of particles on y-axis\n",
    "# l is the spring rest lenght (x-axis, y-axis, xy: diagonal)\n",
    "# type-1 (+-1, +-1) or type-2 (+-2, +-2) refers to the connectivity \n",
    "lx_type1 = W / (particles_x - 1)\n",
    "ly_type1 = H / (particles_y - 1)\n",
    "lxy_type1 = np.sqrt(lx_type1 ** 2 + ly_type1 ** 2)\n",
    "lx_type2 = 2 * lx_type1\n",
    "ly_type2 = 2 * ly_type1\n",
    "lxy_type2 = 2 * lxy_type1\n",
    "indices = [(i, j) for i in range(0, particles_y) for j in range(0, particles_x)]\n",
    "\n",
    "def cartesian_product(arrays, out=None):\n",
    "    arrays = [np.asarray(x) for x in arrays]\n",
    "    dtype = arrays[0].dtype\n",
    "\n",
    "    n = np.prod([x.size for x in arrays])\n",
    "    if out is None:\n",
    "        out = np.zeros([n, len(arrays)], dtype=dtype)\n",
    "\n",
    "    m = int(n / arrays[0].size)\n",
    "    out[:, 0] = np.repeat(arrays[0], m)\n",
    "    if arrays[1:]:\n",
    "        cartesian_product(arrays[1:], out=out[0:m, 1:])\n",
    "        for j in range(1, arrays[0].size):\n",
    "            out[j * m:(j + 1) * m, 1:] = out[0:m, 1:]\n",
    "    \n",
    "    return out\n",
    "\n",
    "def is_valid_coordinate(i, j):\n",
    "    if i < 0 or i >= particles_y or j < 0 or j >= particles_x:\n",
    "        return False\n",
    "    else: \n",
    "        return True\n",
    "    \n",
    "def append_connectivity_if_valid(i, j, i_inc, j_inc, connectivity):\n",
    "    if is_valid_coordinate(i + i_inc, j + j_inc):\n",
    "        connectivity[i, j].append((i + i_inc, j + j_inc))\n",
    "        \n",
    "def generate_connectivity(indices, combinations):\n",
    "    permutations = tuple(map(tuple, cartesian_product(combinations)))\n",
    "    permutations = list(set(permutations))  # to remove duplicate combinations\n",
    "    permutations.remove((0, 0))  # to remove identity\n",
    "    connectivity = {}\n",
    "    for i, j in indices:\n",
    "        connectivity[i, j] = []\n",
    "        for i_inc, j_inc in permutations:\n",
    "            append_connectivity_if_valid(i, j, i_inc, j_inc, connectivity)\n",
    "    \n",
    "    return connectivity\n",
    "\n",
    "# define type-1 and type-2 connectivity    \n",
    "type1_connectivity = generate_connectivity(indices, ([1, 0, -1], [1, 0, -1]))\n",
    "type2_connectivity = generate_connectivity(indices, ([2, 0, -2], [2, 0, -2]))      "
   ]
  },
  {
   "cell_type": "code",
   "execution_count": 10,
   "metadata": {
    "scrolled": true
   },
   "outputs": [
    {
     "ename": "NameError",
     "evalue": "name 'uniform' is not defined",
     "output_type": "error",
     "traceback": [
      "\u001b[1;31m---------------------------------------------------------------------------\u001b[0m",
      "\u001b[1;31mNameError\u001b[0m                                 Traceback (most recent call last)",
      "Cell \u001b[1;32mIn[10], line 2\u001b[0m\n\u001b[0;32m      1\u001b[0m \u001b[38;5;66;03m# initial state variables\u001b[39;00m\n\u001b[1;32m----> 2\u001b[0m u0 \u001b[38;5;241m=\u001b[39m \u001b[43muniform\u001b[49m(\u001b[38;5;241m5\u001b[39m, \u001b[38;5;241m10\u001b[39m)\n\u001b[0;32m      3\u001b[0m \u001b[38;5;28mprint\u001b[39m(u0)\n\u001b[0;32m      4\u001b[0m X0 \u001b[38;5;241m=\u001b[39m np\u001b[38;5;241m.\u001b[39mzeros((particles_y, particles_x, \u001b[38;5;241m3\u001b[39m))\n",
      "\u001b[1;31mNameError\u001b[0m: name 'uniform' is not defined"
     ]
    }
   ],
   "source": [
    "# initial state variables\n",
    "u0 = uniform(5, 10)\n",
    "print(u0)\n",
    "X0 = np.zeros((particles_y, particles_x, 3))\n",
    "U0 = np.zeros((particles_y, particles_x, 3)) \n",
    "\n",
    "# initialize particle state (position and velocity)\n",
    "for i, j in indices:\n",
    "    X0[i, j, :] = np.array([i * H / (particles_y - 1), \n",
    "                            j * W / (particles_x - 1), 0])\n",
    "    \n",
    "    # particles that have initial velocity\n",
    "    if j > 2 and j < particles_x - 2 and i > 2 and i < particles_y - 2:\n",
    "        U0[i, j, :] = np.array([u0, u0, u0])\n",
    "        \n",
    "    # make sure that upper part particles have zero initial velocity \n",
    "    # since they are assumed fixed\n",
    "    for i in range(0, particles_y):\n",
    "        U0[i, particles_x - 1, :] = np.array([0, 0, 0])\n",
    "\n",
    "# visualize initial conditions\n",
    "fig = plt.figure()\n",
    "ax = fig.add_subplot(111, projection='3d')\n",
    "ax.set_xlabel('$x (m)$')\n",
    "ax.set_ylabel('$y (m)$')\n",
    "ax.set_zlabel('$z (m)$')\n",
    "ax.scatter(X0[:, :, 0], X0[:, :, 1], X0[:, :, 2])\n",
    "ax.quiver(X0[:, :, 0], X0[:, :, 1], X0[:, :, 2],\n",
    "          U0[:, :, 0], U0[:, :, 1], U0[:, :, 2],\n",
    "          length=0.05, normalize=True)"
   ]
  },
  {
   "cell_type": "code",
   "execution_count": 11,
   "metadata": {},
   "outputs": [],
   "source": [
    "total_cloth_mass = 3.0\n",
    "m = total_cloth_mass / (particles_x * particles_y)  # particle mass\n",
    "k = 10.0\n",
    "d = 0.05\n",
    "g = 9.8\n",
    "def calc_total_force(i, j, X_n, U_n):\n",
    "    f_ij = np.array([0 ,0, 0])\n",
    "    \n",
    "    # type-1 internal forces\n",
    "    for i_n, j_n in type1_connectivity[i, j]:\n",
    "        x_ij = X_n[i_n, j_n, :] - X_n[i, j, :]\n",
    "        x_ij_mag = np.linalg.norm(x_ij)\n",
    "        \n",
    "        #calculate resting length\n",
    "        l = 0\n",
    "        if np.abs(i - i_n) > 0 and np.abs(j - j_n) > 0:\n",
    "            l = lxy_type1\n",
    "        elif np.abs(i - i_n) > 0 and not np.abs(j - j_n) > 0:\n",
    "            l = ly_type1\n",
    "        else:\n",
    "            l = lx_type1\n",
    "            \n",
    "        # spring force only during elongation \n",
    "        if x_ij_mag - l >= 0:\n",
    "            f_ij = f_ij + k * (x_ij_mag - l) * x_ij / x_ij_mag\n",
    "            \n",
    "        # damping force\n",
    "        f_ij = f_ij - d * (U_n[i, j, :] - U_n[i_n, j_n, :])\n",
    "        \n",
    "    # other types of internal forces can be implemented for type-2\n",
    "    for i_n, j_n in type2_connectivity[i, j]:\n",
    "        x_ij = X_n[i_n, j_n, :] - X_n[i, j, :]\n",
    "        x_ij_mag = np.linalg.norm(x_ij)\n",
    "        l = 0\n",
    "        if np.abs(i - i_n) > 0 and np.abs(j - j_n) > 0:\n",
    "            l = lxy_type2\n",
    "        elif np.abs(i - i_n) > 0 and not np.abs(j - j_n) > 0:\n",
    "            l = ly_type2\n",
    "        else:\n",
    "            l = lx_type2\n",
    "            \n",
    "        # spring force only during elongation\n",
    "        if x_ij_mag - l >= 0:\n",
    "            f_ij = f_ij + k * (x_ij_mag - l) * x_ij / x_ij_mag\n",
    "            \n",
    "        # damping force\n",
    "        f_ij = f_ij - d * (U_n[i, j, :] - U_n[i_n, j_n, :])\n",
    "                         \n",
    "    return f_ij\n",
    "  \n",
    "\n",
    "def calc_acceleration(X_t0, U_t0):\n",
    "    A_t0 = np.zeros((particles_y, particles_x, 3))\n",
    "    for i, j in indices:\n",
    "        A_t0[i, j, :] = 1.0 / m * calc_total_force(i, j, X_t0, U_t0) \\\n",
    "                        + np.array([0, -g, 0])\n",
    "        \n",
    "    # upper part particles are fixed, therefore ensure zeor acceleration\n",
    "    for i in range(0, particles_y):\n",
    "        A_t0[i, particles_x - 1, :] = np.array([0, 0, 0])\n",
    "        \n",
    "    return A_t0"
   ]
  },
  {
   "cell_type": "code",
   "execution_count": 12,
   "metadata": {},
   "outputs": [
    {
     "ename": "NameError",
     "evalue": "name 'X0' is not defined",
     "output_type": "error",
     "traceback": [
      "\u001b[1;31m---------------------------------------------------------------------------\u001b[0m",
      "\u001b[1;31mNameError\u001b[0m                                 Traceback (most recent call last)",
      "Cell \u001b[1;32mIn[12], line 7\u001b[0m\n\u001b[0;32m      5\u001b[0m \u001b[38;5;66;03m# solution vectors\u001b[39;00m\n\u001b[0;32m      6\u001b[0m t \u001b[38;5;241m=\u001b[39m [\u001b[38;5;241m0\u001b[39m]\n\u001b[1;32m----> 7\u001b[0m X \u001b[38;5;241m=\u001b[39m [\u001b[43mX0\u001b[49m]\n\u001b[0;32m      8\u001b[0m U \u001b[38;5;241m=\u001b[39m [U0]\n\u001b[0;32m     10\u001b[0m \u001b[38;5;66;03m# numerical integration (Semi-implicit Euler)\u001b[39;00m\n",
      "\u001b[1;31mNameError\u001b[0m: name 'X0' is not defined"
     ]
    }
   ],
   "source": [
    "# integration parameters\n",
    "end_time = 10\n",
    "dt = 0.01\n",
    "\n",
    "# solution vectors\n",
    "t = [0]\n",
    "X = [X0]\n",
    "U = [U0]\n",
    "\n",
    "# numerical integration (Semi-implicit Euler)\n",
    "while t[-1] < end_time:\n",
    "    t_0 = t[-1]\n",
    "    X_t0 = X[-1]\n",
    "    U_t0 = U[-1] \n",
    "    A_t0 = calc_acceleration(X_t0, U_t0)\n",
    "    U_t0_dt = U_t0 + A_t0 * dt\n",
    "    X_t0_dt = X_t0 + U_t0_dt * dt\n",
    "    t.append(t_0 + dt)\n",
    "    X.append(X_t0_dt)\n",
    "    U.append(U_t0_dt)"
   ]
  },
  {
   "cell_type": "code",
   "execution_count": 13,
   "metadata": {},
   "outputs": [],
   "source": [
    "# initialize graph\n",
    "if False:\n",
    "    fig = plt.figure()\n",
    "    ax = fig.add_subplot(111, projection='3d')\n",
    "    title = ax.set_title('')\n",
    "    ax.set_xlabel('$x (m)$')\n",
    "    ax.set_ylabel('$y (m)$')\n",
    "    ax.set_zlabel('$z (m)$')\n",
    "    ax.set_xlim([-0.5, W + 0.5])\n",
    "    ax.set_ylim([-0.5, W + 0.5])\n",
    "    ax.set_zlim([-0.5, 0.5])\n",
    "    graph, = ax.plot([], [], [], linestyle='', marker='o')\n",
    "\n",
    "    # animation update function\n",
    "    def update_graph(i):\n",
    "        graph.set_data(X[i][:, :, 0].reshape(-1), X[i][:, :, 1].reshape(-1))\n",
    "        graph.set_3d_properties(X[i][:, :, 2].reshape(-1))\n",
    "        title.set_text('time={:.2f}'.format(t[i]))\n",
    "        return graph, title, \n",
    "\n",
    "    # create animation; blit=True means only re-draw the parts that have changed\n",
    "    anim = animation.FuncAnimation(fig, update_graph, \n",
    "                                   frames=len(X), interval=30, blit=True)\n",
    "    anim.save('simulation.mp4', writer=\"ffmpeg\")\n",
    "    plt.close()\n",
    "    # HTML(anim.to_html5_video())\n",
    "    Video(\"simulation.mp4\")"
   ]
  },
  {
   "cell_type": "code",
   "execution_count": 14,
   "metadata": {},
   "outputs": [
    {
     "ename": "NameError",
     "evalue": "name 'np' is not defined",
     "output_type": "error",
     "traceback": [
      "\u001b[1;31m---------------------------------------------------------------------------\u001b[0m",
      "\u001b[1;31mNameError\u001b[0m                                 Traceback (most recent call last)",
      "Cell \u001b[1;32mIn[14], line 5\u001b[0m\n\u001b[0;32m      3\u001b[0m particle_j \u001b[38;5;241m=\u001b[39m \u001b[38;5;241m5\u001b[39m\n\u001b[0;32m      4\u001b[0m axis \u001b[38;5;241m=\u001b[39m \u001b[38;5;241m1\u001b[39m  \u001b[38;5;66;03m# 0, 1, 2 for x, y, z\u001b[39;00m\n\u001b[1;32m----> 5\u001b[0m X_p \u001b[38;5;241m=\u001b[39m \u001b[43mnp\u001b[49m\u001b[38;5;241m.\u001b[39marray(X)[:, particle_i, particle_j, axis] \n\u001b[0;32m      6\u001b[0m U_p \u001b[38;5;241m=\u001b[39m np\u001b[38;5;241m.\u001b[39marray(U)[:, particle_i, particle_j, axis]\n\u001b[0;32m      8\u001b[0m \u001b[38;5;66;03m# create state-space diagram\u001b[39;00m\n",
      "\u001b[1;31mNameError\u001b[0m: name 'np' is not defined"
     ]
    }
   ],
   "source": [
    "# select particle and coordinate variable \n",
    "particle_i = 5\n",
    "particle_j = 5\n",
    "axis = 1  # 0, 1, 2 for x, y, z\n",
    "X_p = np.array(X)[:, particle_i, particle_j, axis] \n",
    "U_p = np.array(U)[:, particle_i, particle_j, axis]\n",
    "\n",
    "# create state-space diagram\n",
    "fig, ax = plt.subplots()\n",
    "ax.quiver(X_p[:-1], U_p[:-1], \n",
    "          X_p[1:] - X_p[:-1], \n",
    "          U_p[1:] - U_p[:-1], \n",
    "          scale_units='xy', angles='xy', scale=1)"
   ]
  },
  {
   "cell_type": "code",
   "execution_count": 15,
   "metadata": {},
   "outputs": [
    {
     "ename": "ModuleNotFoundError",
     "evalue": "No module named 'OpenGL'",
     "output_type": "error",
     "traceback": [
      "\u001b[1;31m---------------------------------------------------------------------------\u001b[0m",
      "\u001b[1;31mModuleNotFoundError\u001b[0m                       Traceback (most recent call last)",
      "Cell \u001b[1;32mIn[15], line 5\u001b[0m\n\u001b[0;32m      2\u001b[0m \u001b[38;5;28;01mimport\u001b[39;00m \u001b[38;5;21;01mtime\u001b[39;00m\n\u001b[0;32m      4\u001b[0m sys\u001b[38;5;241m.\u001b[39mpath\u001b[38;5;241m.\u001b[39mappend(\u001b[38;5;124m'\u001b[39m\u001b[38;5;124mpythonGL/\u001b[39m\u001b[38;5;124m'\u001b[39m)\n\u001b[1;32m----> 5\u001b[0m \u001b[38;5;28;01mimport\u001b[39;00m \u001b[38;5;21;01mopengl\u001b[39;00m\n\u001b[0;32m      6\u001b[0m \u001b[38;5;28;01mimport\u001b[39;00m \u001b[38;5;21;01mpygame\u001b[39;00m\n\u001b[0;32m      9\u001b[0m opengl\u001b[38;5;241m.\u001b[39minit()\n",
      "File \u001b[1;32m~\\OneDrive\\ΗΜΤΥ\\5ο ΕΞΑΜΗΝΟ\\ΑΡΙΘΜΗΤΙΚΗ ΑΝΑΛΥΣΗ\\ΕΡΓΑΣΤΗΡΙΟ\\Άσκηση 5\\numlab_release\\pythonGL\\opengl.py:3\u001b[0m\n\u001b[0;32m      1\u001b[0m \u001b[38;5;28;01mimport\u001b[39;00m \u001b[38;5;21;01mtime\u001b[39;00m\n\u001b[1;32m----> 3\u001b[0m \u001b[38;5;28;01mfrom\u001b[39;00m \u001b[38;5;21;01mOpenGL\u001b[39;00m\u001b[38;5;21;01m.\u001b[39;00m\u001b[38;5;21;01mGLU\u001b[39;00m \u001b[38;5;28;01mimport\u001b[39;00m \u001b[38;5;241m*\u001b[39m\n\u001b[0;32m      5\u001b[0m \u001b[38;5;28;01mfrom\u001b[39;00m \u001b[38;5;21;01mOpenGL\u001b[39;00m\u001b[38;5;21;01m.\u001b[39;00m\u001b[38;5;21;01mGL\u001b[39;00m \u001b[38;5;28;01mimport\u001b[39;00m \u001b[38;5;241m*\u001b[39m\n\u001b[0;32m      6\u001b[0m \u001b[38;5;28;01mfrom\u001b[39;00m \u001b[38;5;21;01mOpenGL\u001b[39;00m\u001b[38;5;21;01m.\u001b[39;00m\u001b[38;5;21;01mGL\u001b[39;00m\u001b[38;5;21;01m.\u001b[39;00m\u001b[38;5;21;01mshaders\u001b[39;00m \u001b[38;5;28;01mimport\u001b[39;00m \u001b[38;5;241m*\u001b[39m\n",
      "\u001b[1;31mModuleNotFoundError\u001b[0m: No module named 'OpenGL'"
     ]
    }
   ],
   "source": [
    "import sys\n",
    "import time\n",
    "\n",
    "sys.path.append('pythonGL/')\n",
    "import opengl\n",
    "import pygame\n",
    "\n",
    "\n",
    "opengl.init()\n",
    "for i in range(0, len(X[:])):\n",
    "    (verts,norms, uvs) = opengl.create_list_of_vertices(X[i])\n",
    "    opengl.draw(verts, norms, uvs)\n",
    "    for event in pygame.event.get():\n",
    "            if event.type == pygame.QUIT:\n",
    "                opengl.closeAll()\n",
    "    time.sleep(1*dt)\n"
   ]
  },
  {
   "cell_type": "code",
   "execution_count": null,
   "metadata": {},
   "outputs": [],
   "source": []
  },
  {
   "cell_type": "code",
   "execution_count": null,
   "metadata": {},
   "outputs": [],
   "source": []
  },
  {
   "cell_type": "code",
   "execution_count": null,
   "metadata": {},
   "outputs": [],
   "source": []
  },
  {
   "cell_type": "code",
   "execution_count": null,
   "metadata": {},
   "outputs": [],
   "source": []
  },
  {
   "cell_type": "code",
   "execution_count": null,
   "metadata": {},
   "outputs": [],
   "source": []
  },
  {
   "cell_type": "code",
   "execution_count": null,
   "metadata": {},
   "outputs": [],
   "source": []
  }
 ],
 "metadata": {
  "kernelspec": {
   "display_name": "Python 3 (ipykernel)",
   "language": "python",
   "name": "python3"
  },
  "language_info": {
   "codemirror_mode": {
    "name": "ipython",
    "version": 3
   },
   "file_extension": ".py",
   "mimetype": "text/x-python",
   "name": "python",
   "nbconvert_exporter": "python",
   "pygments_lexer": "ipython3",
   "version": "3.11.1"
  }
 },
 "nbformat": 4,
 "nbformat_minor": 2
}
